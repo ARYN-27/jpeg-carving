{
 "cells": [
  {
   "cell_type": "code",
   "execution_count": null,
   "metadata": {},
   "outputs": [],
   "source": [
    "import os\n",
    "import io\n",
    "import sys\n",
    "import re #Regular Expressions\n",
    "import PySimpleGUI as sg \n",
    "import PIL "
   ]
  },
  {
   "cell_type": "code",
   "execution_count": null,
   "metadata": {},
   "outputs": [],
   "source": [
    "#RAW file import\n",
    "file_import = sg.popup_get_file(\"Choose the RAW file\", multiple_files=False, file_types=((\"RAW File\",\"*.raw*\"),),)\n",
    "if not file_import:\n",
    "    sg.popup(\"Cancel\",\"No File Uploaded\")\n",
    "    raise SystemExit(\"EXIT\") \n",
    "else:\n",
    "    sg.popup(\"File Uploaded: \",file_import)"
   ]
  },
  {
   "cell_type": "code",
   "execution_count": null,
   "metadata": {},
   "outputs": [],
   "source": [
    "#File Export Location\n",
    "export_path = sg.PopupGetFolder('', no_window=True)\n",
    "if not export_path:\n",
    "    sg.popup(\"Cancel\",\"No Location Selection\")\n",
    "    raise SystemExit(\"EXIT\") \n",
    "else:\n",
    "    sg.popup(\"Location Selected\",export_path)"
   ]
  },
  {
   "cell_type": "code",
   "execution_count": null,
   "metadata": {},
   "outputs": [],
   "source": [
    "#JPEG MAGIC NUMBER\n",
    "JPEG_SOF = b'\\xFF\\xD8\\xFF\\xE0'  #JPEG START-OF-FILE\n",
    "JPEG_EOF = b'\\xFF\\xD9'          #JPEG END-OF-oFILE\n",
    "\n",
    "file_obj=open(file_import, 'rb')\n",
    "data=file_obj.read()\n",
    "file_obj.close()\n",
    "\n",
    "#FINDS AND RETURNS OFFSET FOR SOF and EOF\n",
    "SOF_list=[match.start() for match in re.finditer(re.escape(JPEG_SOF),data)]\n",
    "EOF_list=[match.start() for match in re.finditer(re.escape(JPEG_EOF), data)]\n",
    "\n",
    "#WRITES TO LOCATION.TXT\n",
    "file_txt = open('D:\\Documents\\Degree Archive\\SEM 4\\BIS30803 JENAYAH KOMPUTER DAN FORENSIK DIGITAL\\LAB\\ASSINGMENT 2\\location.txt', 'w')\n",
    "\n",
    "#WRITES SOF\n",
    "i = 0\n",
    "for SOF in SOF_list:\n",
    "    file_txt.write(\"SOF: \"+str(SOF_list[i])+\"\\n\")\n",
    "    i=i+1\n",
    "#WRITES EOF\n",
    "i = 0\n",
    "for EOF in EOF_list:\n",
    "    file_txt.write(\"EOF: \"+str(EOF_list[i])+\"\\n\")\n",
    "    i=i+1\n",
    "\n",
    "\n",
    "file_txt.close()\n",
    "\n",
    "#DETERMINES IF EOI is more than SOF and combines the data\n",
    "for SOI in SOF_list:\n",
    "    for EOI in EOF_list:\n",
    "        if SOI < EOI:\n",
    "            subdata = data[SOI:EOI]\n",
    "            EOF2=[match.start() for match in re.finditer(re.escape(JPEG_EOF), subdata)]\n",
    "            eoilen=len(EOF2)\n",
    "            for ending in EOF2:\n",
    "                if eoilen == 1:\n",
    "                    imagename = \"Carve\" + str(i+1) + \"_\" + str(SOI) + \"_\" + str(EOI) + \".jpg\"\n",
    "                    path=export_path\n",
    "                    carve_picname = os.path.join(path,imagename)\n",
    "                    carve_pic=open(carve_picname,\"wb\")\n",
    "                    carve_pic.write(subdata)\n",
    "                    carve_pic.close()\n",
    "                    print(\"Image exported to \" + carve_picname)\n",
    "                    i=1+1\n",
    "print()\n",
    "print(\"Complete !\")\n"
   ]
  },
  {
   "cell_type": "code",
   "execution_count": null,
   "metadata": {},
   "outputs": [],
   "source": [
    "#os.chdir(export_path)"
   ]
  }
 ],
 "metadata": {
  "kernelspec": {
   "display_name": "Python 3.10.5 64-bit",
   "language": "python",
   "name": "python3"
  },
  "language_info": {
   "codemirror_mode": {
    "name": "ipython",
    "version": 3
   },
   "file_extension": ".py",
   "mimetype": "text/x-python",
   "name": "python",
   "nbconvert_exporter": "python",
   "pygments_lexer": "ipython3",
   "version": "3.10.5"
  },
  "orig_nbformat": 4,
  "vscode": {
   "interpreter": {
    "hash": "d3e10ef16274dd72e574b8fa73b58450b957d8421a2901baded3cca26fcf5dda"
   }
  }
 },
 "nbformat": 4,
 "nbformat_minor": 2
}
